{
  "nbformat": 4,
  "nbformat_minor": 0,
  "metadata": {
    "colab": {
      "provenance": [],
      "authorship_tag": "ABX9TyMm/ojVqN4a5hgyrl34oYMh",
      "include_colab_link": true
    },
    "kernelspec": {
      "name": "python3",
      "display_name": "Python 3"
    },
    "language_info": {
      "name": "python"
    }
  },
  "cells": [
    {
      "cell_type": "markdown",
      "metadata": {
        "id": "view-in-github",
        "colab_type": "text"
      },
      "source": [
        "<a href=\"https://colab.research.google.com/github/pablex72/challenge-101-numpy-exercises-python/blob/main/challenge_21_25_numpy_exercise_ML.ipynb\" target=\"_parent\"><img src=\"https://colab.research.google.com/assets/colab-badge.svg\" alt=\"Open In Colab\"/></a>"
      ]
    },
    {
      "cell_type": "markdown",
      "source": [
        "21. Print or show only 3 decimal places of the numpy array rand_arr."
      ],
      "metadata": {
        "id": "-xNwFXRyEL-d"
      }
    },
    {
      "cell_type": "code",
      "source": [
        "import numpy as np"
      ],
      "metadata": {
        "id": "NLBtpH7AEeuq"
      },
      "execution_count": 2,
      "outputs": []
    },
    {
      "cell_type": "code",
      "execution_count": 5,
      "metadata": {
        "colab": {
          "base_uri": "https://localhost:8080/"
        },
        "id": "jiH9o948DRJi",
        "outputId": "ed8a6386-ffa6-4a3b-d83a-ebd436f640ee"
      },
      "outputs": [
        {
          "output_type": "execute_result",
          "data": {
            "text/plain": [
              "array([[0.77548459, 0.14916122, 0.63793406],\n",
              "       [0.08661659, 0.18228075, 0.87780198],\n",
              "       [0.11196839, 0.86106431, 0.0286992 ],\n",
              "       [0.52820924, 0.05927032, 0.06872222],\n",
              "       [0.10980769, 0.91736132, 0.25010075]])"
            ]
          },
          "metadata": {},
          "execution_count": 5
        }
      ],
      "source": [
        "rand_arr = np.random.random((5,3))\n",
        "rand_arr"
      ]
    },
    {
      "cell_type": "code",
      "source": [
        "np.set_printoptions(precision=3)\n",
        "rand_arr[:5]"
      ],
      "metadata": {
        "colab": {
          "base_uri": "https://localhost:8080/"
        },
        "id": "oq2gcdXXFIFr",
        "outputId": "d47ba7f5-3387-4a77-8be0-04e3b41dbcc9"
      },
      "execution_count": 22,
      "outputs": [
        {
          "output_type": "execute_result",
          "data": {
            "text/plain": [
              "array([[0.775, 0.149, 0.638],\n",
              "       [0.087, 0.182, 0.878],\n",
              "       [0.112, 0.861, 0.029],\n",
              "       [0.528, 0.059, 0.069],\n",
              "       [0.11 , 0.917, 0.25 ]])"
            ]
          },
          "metadata": {},
          "execution_count": 22
        }
      ]
    },
    {
      "cell_type": "markdown",
      "source": [
        "22. Pretty print rand_arr by suppressing the scientific notation (like 1e10)"
      ],
      "metadata": {
        "id": "Q7AhNz1_J_W1"
      }
    },
    {
      "cell_type": "code",
      "source": [
        "np.random.seed(100)\n",
        "rand_arr = np.random.random([3,3])/1e3\n",
        "rand_arr"
      ],
      "metadata": {
        "colab": {
          "base_uri": "https://localhost:8080/"
        },
        "id": "f8MIEcurKBSp",
        "outputId": "3c5400b4-d9cd-4a8b-f777-b59478f24fdf"
      },
      "execution_count": 23,
      "outputs": [
        {
          "output_type": "execute_result",
          "data": {
            "text/plain": [
              "array([[5.434e-04, 2.784e-04, 4.245e-04],\n",
              "       [8.448e-04, 4.719e-06, 1.216e-04],\n",
              "       [6.707e-04, 8.259e-04, 1.367e-04]])"
            ]
          },
          "metadata": {},
          "execution_count": 23
        }
      ]
    },
    {
      "cell_type": "code",
      "source": [
        "np.set_printoptions(suppress=True, precision=6)  \n",
        "rand_arr"
      ],
      "metadata": {
        "colab": {
          "base_uri": "https://localhost:8080/"
        },
        "id": "xmEjobwMg6tj",
        "outputId": "ed92ff00-3447-4c3d-a349-94597b613449"
      },
      "execution_count": 24,
      "outputs": [
        {
          "output_type": "execute_result",
          "data": {
            "text/plain": [
              "array([[0.000543, 0.000278, 0.000425],\n",
              "       [0.000845, 0.000005, 0.000122],\n",
              "       [0.000671, 0.000826, 0.000137]])"
            ]
          },
          "metadata": {},
          "execution_count": 24
        }
      ]
    },
    {
      "cell_type": "markdown",
      "source": [
        "23. Limit the number of items printed in python numpy array a to a maximum of 6 elements.\n"
      ],
      "metadata": {
        "id": "vnf0EjyihBAI"
      }
    },
    {
      "cell_type": "code",
      "source": [
        "a = np.arange(15)\n",
        "a"
      ],
      "metadata": {
        "colab": {
          "base_uri": "https://localhost:8080/"
        },
        "id": "EnXcxCK5hDcL",
        "outputId": "691097cb-bcfa-43d8-8494-821fd80e3628"
      },
      "execution_count": 25,
      "outputs": [
        {
          "output_type": "execute_result",
          "data": {
            "text/plain": [
              "array([ 0,  1,  2,  3,  4,  5,  6,  7,  8,  9, 10, 11, 12, 13, 14])"
            ]
          },
          "metadata": {},
          "execution_count": 25
        }
      ]
    },
    {
      "cell_type": "markdown",
      "source": [
        "24. Print the full numpy array a without truncating.\n"
      ],
      "metadata": {
        "id": "V_WVeAw2y_4o"
      }
    },
    {
      "cell_type": "code",
      "source": [
        "np.set_printoptions(threshold=6)\n",
        "a = np.arange(15)\n",
        "a"
      ],
      "metadata": {
        "colab": {
          "base_uri": "https://localhost:8080/"
        },
        "id": "V5qCO8oVzki2",
        "outputId": "fe81e6f2-2b97-4e97-c17e-bbfca516cd8c"
      },
      "execution_count": 26,
      "outputs": [
        {
          "output_type": "execute_result",
          "data": {
            "text/plain": [
              "array([ 0,  1,  2, ..., 12, 13, 14])"
            ]
          },
          "metadata": {},
          "execution_count": 26
        }
      ]
    },
    {
      "cell_type": "markdown",
      "source": [
        "25. Import the iris dataset keeping the text intact.\n"
      ],
      "metadata": {
        "id": "kJHFb2WR2SVL"
      }
    },
    {
      "cell_type": "code",
      "source": [
        "# Solution\n",
        "url = 'https://archive.ics.uci.edu/ml/machine-learning-databases/iris/iris.data'\n",
        "iris = np.genfromtxt(url, delimiter=',', dtype='object')\n",
        "names = ('sepallength', 'sepalwidth', 'petallength', 'petalwidth', 'species')\n",
        "\n",
        "# Print the first 3 rows\n",
        "iris[:3]\n"
      ],
      "metadata": {
        "colab": {
          "base_uri": "https://localhost:8080/"
        },
        "id": "7hRi98_V2Wnl",
        "outputId": "5dea69a8-5e5d-4873-bff7-e489f04fc49c"
      },
      "execution_count": 28,
      "outputs": [
        {
          "output_type": "execute_result",
          "data": {
            "text/plain": [
              "array([[b'5.1', b'3.5', b'1.4', b'0.2', b'Iris-setosa'],\n",
              "       [b'4.9', b'3.0', b'1.4', b'0.2', b'Iris-setosa'],\n",
              "       [b'4.7', b'3.2', b'1.3', b'0.2', b'Iris-setosa']], dtype=object)"
            ]
          },
          "metadata": {},
          "execution_count": 28
        }
      ]
    }
  ]
}