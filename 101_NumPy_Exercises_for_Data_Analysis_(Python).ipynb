{
  "nbformat": 4,
  "nbformat_minor": 0,
  "metadata": {
    "colab": {
      "provenance": [],
      "authorship_tag": "ABX9TyMn4J29qf4axriEQzluu3F9",
      "include_colab_link": true
    },
    "kernelspec": {
      "name": "python3",
      "display_name": "Python 3"
    },
    "language_info": {
      "name": "python"
    }
  },
  "cells": [
    {
      "cell_type": "markdown",
      "metadata": {
        "id": "view-in-github",
        "colab_type": "text"
      },
      "source": [
        "<a href=\"https://colab.research.google.com/github/pablex72/challenge-101-numpy-exercises-python/blob/main/101_NumPy_Exercises_for_Data_Analysis_(Python).ipynb\" target=\"_parent\"><img src=\"https://colab.research.google.com/assets/colab-badge.svg\" alt=\"Open In Colab\"/></a>"
      ]
    },
    {
      "cell_type": "code",
      "source": [
        "import numpy as np\n",
        "import pandas as pd "
      ],
      "metadata": {
        "id": "2z1m8yqtGcYb"
      },
      "execution_count": 7,
      "outputs": []
    },
    {
      "cell_type": "code",
      "execution_count": 8,
      "metadata": {
        "colab": {
          "base_uri": "https://localhost:8080/"
        },
        "id": "8AZluSFg-eg8",
        "outputId": "87be6e46-10a5-47f4-e652-c02a252f55a9"
      },
      "outputs": [
        {
          "output_type": "execute_result",
          "data": {
            "text/plain": [
              "array([0, 1, 2, 3, 4, 5, 6, 7, 8, 9])"
            ]
          },
          "metadata": {},
          "execution_count": 8
        }
      ],
      "source": [
        "#2. How to create a 1D array?\n",
        "\n",
        "arr = np.arange(10)\n",
        "arr"
      ]
    },
    {
      "cell_type": "code",
      "source": [
        "#3. How to create a boolean array?\n",
        "np.full((3, 3), True, dtype=bool)\n",
        "#> array([[ True,  True,  True],\n",
        "#>        [ True,  True,  True],\n",
        "#>        [ True,  True,  True]], dtype=bool)\n",
        "\n",
        "# Alternate method:\n",
        "np.ones((3,3), dtype=bool)"
      ],
      "metadata": {
        "colab": {
          "base_uri": "https://localhost:8080/"
        },
        "id": "yj4i-wwUG_PJ",
        "outputId": "1131726c-fa1f-4794-cfea-b2c3b0e29773"
      },
      "execution_count": 9,
      "outputs": [
        {
          "output_type": "execute_result",
          "data": {
            "text/plain": [
              "array([[ True,  True,  True],\n",
              "       [ True,  True,  True],\n",
              "       [ True,  True,  True]])"
            ]
          },
          "metadata": {},
          "execution_count": 9
        }
      ]
    },
    {
      "cell_type": "code",
      "source": [
        "#4. How to extract items that satisfy a given condition from 1D array?\n",
        "\n",
        "# Input\n",
        "arr = np.array([0, 1, 2, 3, 4, 5, 6, 7, 8, 9])\n",
        "\n",
        "# Solution\n",
        "print('arr % 2',arr % 2)\n",
        "print('arr[arr % 2]',arr[arr % 2])\n",
        "print('arr[arr % 2 == 1]',arr[arr % 2 == 1])\n",
        "#> array([1, 3, 5, 7, 9])"
      ],
      "metadata": {
        "colab": {
          "base_uri": "https://localhost:8080/"
        },
        "id": "mug5gt96KGmN",
        "outputId": "0779c154-9068-402d-d5ab-2efb566734e6"
      },
      "execution_count": 13,
      "outputs": [
        {
          "output_type": "stream",
          "name": "stdout",
          "text": [
            "arr % 2 [0 1 0 1 0 1 0 1 0 1]\n",
            "arr[arr % 2] [0 1 0 1 0 1 0 1 0 1]\n",
            "arr[arr % 2 == 1] [1 3 5 7 9]\n"
          ]
        }
      ]
    }
  ]
}